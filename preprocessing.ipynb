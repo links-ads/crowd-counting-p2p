{
 "cells": [
  {
   "attachments": {},
   "cell_type": "markdown",
   "metadata": {},
   "source": [
    "Datasets Preprocessing"
   ]
  },
  {
   "cell_type": "code",
   "execution_count": 48,
   "metadata": {},
   "outputs": [],
   "source": [
    "import os\n",
    "import glob\n",
    "from pathlib import Path\n",
    "import shutil\n",
    "from tqdm import tqdm\n",
    "import json\n",
    "import numpy as np\n",
    "import cv2"
   ]
  },
  {
   "cell_type": "code",
   "execution_count": 49,
   "metadata": {},
   "outputs": [],
   "source": [
    "jhu_path = \"crowd_datasets/jhu_crowd_v2.0\"\n",
    "nwpu_path = \"crowd_datasets/NWPU-Crowd\"\n",
    "unified_path = \"crowd_datasets/Unified-Crowd\""
   ]
  },
  {
   "attachments": {},
   "cell_type": "markdown",
   "metadata": {},
   "source": [
    "JHU-CROWD++"
   ]
  },
  {
   "cell_type": "code",
   "execution_count": 50,
   "metadata": {},
   "outputs": [],
   "source": [
    "def create_annotation_file_jhu(src: str, dst: str, width: int, height: int):\n",
    "    with open(src, \"r\") as src_file:\n",
    "        lines = src_file.readlines()\n",
    "    points = []\n",
    "    for line in lines:\n",
    "        points.append(line.split(\" \")[:2])\n",
    "    points = np.array(points, dtype=int)\n",
    "    if points.shape[0] > 0:\n",
    "        points = np.clip(points, a_min=[0, 0], a_max=[width-1, height-1])\n",
    "    else:\n",
    "        points = np.empty((0, 2))\n",
    "    np.save(dst, points)"
   ]
  },
  {
   "cell_type": "code",
   "execution_count": 51,
   "metadata": {},
   "outputs": [],
   "source": [
    "def process_jhu(dataset_path, split):\n",
    "    image_paths = glob.glob(os.path.join(dataset_path, split, 'images', '*.jpg'))\n",
    "    for image_path in tqdm(image_paths):\n",
    "        image_id = Path(image_path).stem\n",
    "        dir_path = os.path.join(unified_path, split, f'JHU_{image_id}')\n",
    "        if os.path.exists(dir_path) and os.path.isdir(dir_path):\n",
    "            shutil.rmtree(dir_path)\n",
    "        os.mkdir(dir_path)\n",
    "        os.symlink(os.path.abspath(image_path), os.path.join(dir_path, 'img.jpg'))\n",
    "        img = cv2.imread(image_path)\n",
    "        height, width, _ = img.shape\n",
    "        create_annotation_file_jhu(os.path.join(dataset_path, split, 'gt', f'{image_id}.txt'), os.path.join(dir_path, 'points.npy'), width=width, height=height)"
   ]
  },
  {
   "cell_type": "code",
   "execution_count": 52,
   "metadata": {},
   "outputs": [
    {
     "name": "stderr",
     "output_type": "stream",
     "text": [
      "  0%|          | 0/2272 [00:00<?, ?it/s]"
     ]
    },
    {
     "name": "stderr",
     "output_type": "stream",
     "text": [
      "100%|██████████| 2272/2272 [01:01<00:00, 36.76it/s]\n",
      "100%|██████████| 500/500 [00:11<00:00, 41.92it/s]\n",
      "100%|██████████| 1599/1599 [00:48<00:00, 33.15it/s]\n"
     ]
    }
   ],
   "source": [
    "# Train images\n",
    "process_jhu(jhu_path, \"train\")\n",
    "# Validation images\n",
    "process_jhu(jhu_path, \"val\")\n",
    "# Test images\n",
    "process_jhu(jhu_path, \"test\")"
   ]
  },
  {
   "attachments": {},
   "cell_type": "markdown",
   "metadata": {},
   "source": [
    "NWPU-CROWD"
   ]
  },
  {
   "cell_type": "code",
   "execution_count": 53,
   "metadata": {},
   "outputs": [],
   "source": [
    "def create_annotation_file_nwpu(src: str, dst: str, width: int, height: int):\n",
    "    with open(src, \"r\") as src_file:\n",
    "        points = json.load(src_file)['points']\n",
    "    points = np.array(points, dtype=int)\n",
    "    if points.shape[0] > 0:\n",
    "        points = np.clip(points, a_min=[0, 0], a_max=[width-1, height-1])\n",
    "    else:\n",
    "        points = np.empty((0, 2))\n",
    "    np.save(dst, points)"
   ]
  },
  {
   "cell_type": "code",
   "execution_count": 54,
   "metadata": {},
   "outputs": [],
   "source": [
    "def process_nwpu(dataset_path, split):\n",
    "    with open(os.path.join(dataset_path, f'{split}.txt')) as f:\n",
    "        image_ids = f.readlines()\n",
    "    for image_id in tqdm(image_ids):\n",
    "        image_id = image_id.split(\" \")[0]\n",
    "        dir_path = os.path.join(unified_path, split, f'NWPU_{image_id}')\n",
    "        if os.path.exists(dir_path) and os.path.isdir(dir_path):\n",
    "            shutil.rmtree(dir_path)\n",
    "        os.mkdir(dir_path)\n",
    "        image_path = os.path.join(dataset_path, 'images', f'{image_id}.jpg')\n",
    "        os.symlink(os.path.abspath(image_path), os.path.join(dir_path, 'img.jpg'))\n",
    "        img = cv2.imread(image_path)\n",
    "        height, width, _ = img.shape\n",
    "        create_annotation_file_nwpu(os.path.join(dataset_path, 'jsons', f'{image_id}.json'), os.path.join(dir_path, 'points.npy'), width=width, height=height)"
   ]
  },
  {
   "cell_type": "code",
   "execution_count": 55,
   "metadata": {},
   "outputs": [
    {
     "name": "stderr",
     "output_type": "stream",
     "text": [
      "  0%|          | 0/3109 [00:00<?, ?it/s]"
     ]
    },
    {
     "name": "stderr",
     "output_type": "stream",
     "text": [
      " 74%|███████▍  | 2293/3109 [04:28<01:23,  9.78it/s]Invalid SOS parameters for sequential JPEG\n",
      "100%|██████████| 3109/3109 [06:00<00:00,  8.63it/s]\n",
      "100%|██████████| 500/500 [00:53<00:00,  9.26it/s]\n"
     ]
    }
   ],
   "source": [
    "# Train images\n",
    "process_nwpu(nwpu_path, \"train\")\n",
    "# Validation images\n",
    "process_nwpu(nwpu_path, \"val\")\n",
    "# Test samples have no annotations"
   ]
  }
 ],
 "metadata": {
  "kernelspec": {
   "display_name": ".venv",
   "language": "python",
   "name": "python3"
  },
  "language_info": {
   "codemirror_mode": {
    "name": "ipython",
    "version": 3
   },
   "file_extension": ".py",
   "mimetype": "text/x-python",
   "name": "python",
   "nbconvert_exporter": "python",
   "pygments_lexer": "ipython3",
   "version": "3.11.3"
  },
  "orig_nbformat": 4
 },
 "nbformat": 4,
 "nbformat_minor": 2
}
